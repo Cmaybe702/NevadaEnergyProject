{
 "cells": [
  {
   "cell_type": "code",
   "execution_count": 1,
   "id": "279ad76e",
   "metadata": {},
   "outputs": [
    {
     "data": {
      "text/plain": [
       "'/usr/local/opt/apache-spark/libexec'"
      ]
     },
     "execution_count": 1,
     "metadata": {},
     "output_type": "execute_result"
    }
   ],
   "source": [
    "import findspark\n",
    "\n",
    "findspark.init()\n",
    "findspark.find()"
   ]
  },
  {
   "cell_type": "code",
   "execution_count": 3,
   "id": "6cb9a8c2",
   "metadata": {},
   "outputs": [],
   "source": [
    "from pyspark.sql import SparkSession\n",
    "from pyspark.context import SparkContext\n",
    "import pyspark\n",
    "\n",
    "spark = SparkSession.builder.appName(\"NV Energy Project\").config('spark.ui.showConsoleProgress', 'false').getOrCreate()\n",
    "\n",
    "sc = spark.sparkContext.getOrCreate()\n",
    "sc.setLogLevel('OFF')"
   ]
  },
  {
   "cell_type": "code",
   "execution_count": 24,
   "id": "f4ac3350",
   "metadata": {
    "scrolled": true
   },
   "outputs": [
    {
     "data": {
      "text/plain": [
       "DataFrame[Timestamp: timestamp, minutes: double, weekNumber: double, GlobalHoriz: double, RelHumidity: double, AvgWindSpeed: double, Precipitation: double, Power100: double, Power150: double, Power200: double]"
      ]
     },
     "metadata": {},
     "output_type": "display_data"
    }
   ],
   "source": [
    "sw_df = spark.read.option(\"header\", \"true\").option(\"inferSchema\", \"true\").csv(\"CleanData/solarAndWeather.csv\")\n"
   ]
  },
  {
   "cell_type": "code",
   "execution_count": 6,
   "id": "bfcb76cd",
   "metadata": {},
   "outputs": [],
   "source": [
    "#Create test and train for RF ML models\n",
    "\n",
    "solar_weather_train_df, solar_weather_test_df = sw_df.randomSplit([.8, .2], seed=42)"
   ]
  },
  {
   "cell_type": "code",
   "execution_count": 21,
   "id": "12d9b3ce",
   "metadata": {},
   "outputs": [
    {
     "name": "stderr",
     "output_type": "stream",
     "text": [
      "                                                                                \r"
     ]
    },
    {
     "data": {
      "text/plain": [
       "'r2: 0.8790679964415425 rmse: 9.283995342605921'"
      ]
     },
     "metadata": {},
     "output_type": "display_data"
    }
   ],
   "source": [
    "from pyspark.ml.feature import VectorAssembler\n",
    "from pyspark.ml.regression import RandomForestRegressor\n",
    "from pyspark.ml import Pipeline\n",
    "from pyspark.ml.evaluation import RegressionEvaluator\n",
    "\n",
    "#Model for 100MW Farm\n",
    "\n",
    "sw_vec_assembler = VectorAssembler(inputCols=[\"minutes\", \"weekNumber\",\"GlobalHoriz\", \"RelHumidity\", \"AvgWindSpeed\", \"Precipitation\"], outputCol=\"features\")\n",
    "\n",
    "sw_rf = RandomForestRegressor(featuresCol=\"features\", labelCol=\"Power100\", numTrees = 100, maxDepth = 10)\n",
    "\n",
    "pipeline = Pipeline(stages=[sw_vec_assembler, sw_rf])\n",
    "\n",
    "sw_100_pipeline_model = pipeline.fit(solar_weather_train_df);"
   ]
  },
  {
   "cell_type": "code",
   "execution_count": 10,
   "id": "c3d82895",
   "metadata": {},
   "outputs": [
    {
     "name": "stderr",
     "output_type": "stream",
     "text": [
      "                                                                                \r"
     ]
    },
    {
     "data": {
      "text/plain": [
       "'r2: 0.8861426596079328 rmse: 13.462028921090889'"
      ]
     },
     "metadata": {},
     "output_type": "display_data"
    }
   ],
   "source": [
    "#Model for 150MW Farm\n",
    "\n",
    "sw_rf = RandomForestRegressor(featuresCol=\"features\", labelCol=\"Power150\", numTrees = 100, maxDepth = 10)\n",
    "\n",
    "pipeline = Pipeline(stages=[sw_vec_assembler, sw_rf])\n",
    "\n",
    "sw_150_pipeline_model = pipeline.fit(solar_weather_train_df);"
   ]
  },
  {
   "cell_type": "code",
   "execution_count": 23,
   "id": "2371ad72",
   "metadata": {},
   "outputs": [
    {
     "name": "stderr",
     "output_type": "stream",
     "text": [
      "                                                                                \r"
     ]
    },
    {
     "data": {
      "text/plain": [
       "'r2: 0.7836649353286952 rmse: 23.16203285483346'"
      ]
     },
     "metadata": {},
     "output_type": "display_data"
    }
   ],
   "source": [
    "#Model for 200MW Farm\n",
    "\n",
    "sw_rf = RandomForestRegressor(featuresCol=\"features\", labelCol=\"Power200\", numTrees = 100, maxDepth = 10)\n",
    "\n",
    "pipeline = Pipeline(stages=[sw_vec_assembler, sw_rf])\n",
    "\n",
    "sw_200_pipeline_model = pipeline.fit(solar_weather_train_df)\n",
    "\n",
    "pred_df = sw_200_pipeline_model.transform(solar_weather_test_df)"
   ]
  },
  {
   "cell_type": "code",
   "execution_count": 14,
   "id": "d5883b05",
   "metadata": {},
   "outputs": [],
   "source": [
    "def getConsumption(year):\n",
    "    #Formula from DataBricks Consumption LR \n",
    "    return  year * 675250.9602239017 - 1325137830.201505"
   ]
  },
  {
   "cell_type": "code",
   "execution_count": 34,
   "id": "044563a8",
   "metadata": {},
   "outputs": [
    {
     "name": "stdout",
     "output_type": "stream",
     "text": [
      "+-------+----------+-----------+-----------+------------+-------------+--------------------+----------------+\n",
      "|minutes|weekNumber|GlobalHoriz|RelHumidity|AvgWindSpeed|Precipitation|            features|      prediction|\n",
      "+-------+----------+-----------+-----------+------------+-------------+--------------------+----------------+\n",
      "|     60|         2|          2|          2|           2|            2|[60.0,2.0,2.0,2.0...|9.69780010868273|\n",
      "+-------+----------+-----------+-----------+------------+-------------+--------------------+----------------+\n",
      "\n",
      "9.69780010868273\n"
     ]
    }
   ],
   "source": [
    "def getSolar(farm_size, time, week_num, ghi, humidity, wind, precipitation):\n",
    "    \n",
    "    #Convert time to minutes\n",
    "    hours = time.hour\n",
    "    minutes = time.minute\n",
    "    total_minutes = hours * 60 + minutes\n",
    "    \n",
    "    columns = [\"minutes\", \"weekNumber\",\"GlobalHoriz\", \"RelHumidity\", \"AvgWindSpeed\", \"Precipitation\"]\n",
    "    data = [(total_minutes, week_num, ghi, humidity, wind, precipitation)]\n",
    "    selection_df = spark.createDataFrame(data=data, schema=columns)\n",
    "\n",
    "    #Determine model to use for prediction\n",
    "    if farm_size == '100 MW':\n",
    "        pred_df = sw_100_pipeline_model.transform(selection_df)\n",
    "    elif farm_size == '150 MW':\n",
    "        pred_df = sw_150_pipeline_model.transform(selection_df)\n",
    "    else:\n",
    "        pred_df = sw_200_pipeline_model.transform(selection_df)\n",
    "    \n",
    "    prediction = pred_df.collect()[0][7]\n",
    "    \n",
    "    return prediction"
   ]
  },
  {
   "cell_type": "code",
   "execution_count": null,
   "id": "4fe2548e",
   "metadata": {},
   "outputs": [],
   "source": []
  }
 ],
 "metadata": {
  "kernelspec": {
   "display_name": "Python 3 (ipykernel)",
   "language": "python",
   "name": "python3"
  },
  "language_info": {
   "codemirror_mode": {
    "name": "ipython",
    "version": 3
   },
   "file_extension": ".py",
   "mimetype": "text/x-python",
   "name": "python",
   "nbconvert_exporter": "python",
   "pygments_lexer": "ipython3",
   "version": "3.9.12"
  }
 },
 "nbformat": 4,
 "nbformat_minor": 5
}
