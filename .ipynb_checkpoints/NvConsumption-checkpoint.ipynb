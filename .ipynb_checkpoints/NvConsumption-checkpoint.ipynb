{
 "cells": [
  {
   "cell_type": "code",
   "execution_count": null,
   "id": "0853d129",
   "metadata": {},
   "outputs": [],
   "source": [
    "import findspark\n",
    "\n",
    "findspark.init()\n",
    "findspark.find()"
   ]
  },
  {
   "cell_type": "code",
   "execution_count": null,
   "id": "fc4b5f15",
   "metadata": {},
   "outputs": [],
   "source": [
    "from pyspark.sql import SparkSession\n",
    "import pyspark\n",
    "from pyspark.sql.functions import translate, col\n",
    "\n",
    "spark = SparkSession.builder.appName(\"NV Energy Project\").getOrCreate()"
   ]
  },
  {
   "cell_type": "code",
   "execution_count": 7,
   "id": "abf75c2b",
   "metadata": {},
   "outputs": [],
   "source": [
    "#Import consumption data\n",
    "\n",
    "from pyspark.sql.functions import translate, col\n",
    "\n",
    "nv_ac_df = spark.read.option(\"header\", \"true\").option(\"inferSchema\", \"true\").csv(\"CleanData/nv_annual_consumption60-21.csv\")\n",
    "\n",
    "nv_ac_df2 = nv_ac_df.withColumn(\"TotalConsumption\", translate(col(\"TotalConsumption\"), \",\", \"\").cast(\"integer\"))\n"
   ]
  },
  {
   "cell_type": "code",
   "execution_count": 8,
   "id": "3d804995",
   "metadata": {},
   "outputs": [],
   "source": [
    "#Convert data to millions scale for visualization\n",
    "\n",
    "import pyspark\n",
    "from pyspark.sql.functions import udf\n",
    "from pyspark.sql.types import DoubleType\n",
    "\n",
    "convertUDF = udf(lambda z: convertMill(z), DoubleType())\n",
    "\n",
    "def convertMill(reading):\n",
    "    new = reading/1000000\n",
    "    return new\n",
    "\n",
    "nv_ac_df2 = nv_ac_df2.select(\"YEAR\", \"TotalConsumption\", convertUDF(col(\"TotalConsumption\").alias(\"TotalMillions\"))) \n",
    "\n",
    "nv_ac_df2 = nv_ac_df2.withColumnRenamed(\"<lambda>(TotalConsumption AS TotalMillions)\", \"Actual Consumption\")\n",
    "\n",
    "nv_ac_df3 = nv_ac_df2.filter(nv_ac_df2.YEAR != 1990)\n",
    "\n",
    "nv_ac_df3 = nv_ac_df3.filter(nv_ac_df2.YEAR != 2010)\n"
   ]
  },
  {
   "cell_type": "code",
   "execution_count": 9,
   "id": "578278cf",
   "metadata": {},
   "outputs": [],
   "source": [
    "#Predictions from Consumption LR model for vizualization\n",
    "\n",
    "from pyspark.sql.functions import col, udf\n",
    "\n",
    "convertUDF = udf(lambda z: predict(z), DoubleType())\n",
    "\n",
    "def predict(x):\n",
    "    return  x * 675250.9602239017 - 1325137830.201505\n",
    "\n",
    "nv_ac_df3 = nv_ac_df3.select(\"YEAR\", \"TotalConsumption\", \"Actual Consumption\", \n",
    "                             convertUDF(col(\"YEAR\").alias(\"ModelPred\"))) \n",
    "\n",
    "nv_ac_df3 = nv_ac_df3.withColumnRenamed(\"<lambda>(YEAR AS ModelPred)\", \"ModelPred\")\n",
    "\n",
    "#Convert predictions to millions scale\n",
    "\n",
    "convertUDF2 = udf(lambda z: convertMill(z), DoubleType())\n",
    "\n",
    "def convertMill(reading):\n",
    "    new = reading/1000000\n",
    "    return new\n",
    "\n",
    "nv_ac_df4 = nv_ac_df3.select(\"YEAR\", \"TotalConsumption\", \"Actual Consumption\", \"ModelPred\",\n",
    "                             convertUDF2(col(\"ModelPred\").alias(\"PredMillions\"))) \n",
    "\n",
    "nv_ac_df4 = nv_ac_df4.withColumnRenamed(\"<lambda>(ModelPred AS PredMillions)\", \"Model Predictions\")\n",
    "\n",
    "nv_ac_df4 = nv_ac_df4.orderBy(\"YEAR\")\n"
   ]
  },
  {
   "cell_type": "code",
   "execution_count": 10,
   "id": "6c5be851",
   "metadata": {},
   "outputs": [],
   "source": [
    "#Create panda frame for visualization\n",
    "\n",
    "def createNVCFrame():\n",
    "    \n",
    "    nv_ac_df5 = nv_ac_df4.toPandas()\n",
    "    \n",
    "    return nv_ac_df5"
   ]
  },
  {
   "cell_type": "code",
   "execution_count": null,
   "id": "d98d069a",
   "metadata": {},
   "outputs": [],
   "source": []
  }
 ],
 "metadata": {
  "celltoolbar": "Tags",
  "kernelspec": {
   "display_name": "Python 3 (ipykernel)",
   "language": "python",
   "name": "python3"
  },
  "language_info": {
   "codemirror_mode": {
    "name": "ipython",
    "version": 3
   },
   "file_extension": ".py",
   "mimetype": "text/x-python",
   "name": "python",
   "nbconvert_exporter": "python",
   "pygments_lexer": "ipython3",
   "version": "3.9.12"
  }
 },
 "nbformat": 4,
 "nbformat_minor": 5
}
