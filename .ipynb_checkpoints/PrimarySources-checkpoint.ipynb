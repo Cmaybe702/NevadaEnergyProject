{
 "cells": [
  {
   "cell_type": "code",
   "execution_count": null,
   "id": "a88e9e62",
   "metadata": {},
   "outputs": [],
   "source": [
    "import findspark\n",
    "\n",
    "findspark.init()\n",
    "findspark.find()"
   ]
  },
  {
   "cell_type": "code",
   "execution_count": null,
   "id": "f4a6c313",
   "metadata": {},
   "outputs": [],
   "source": [
    "from pyspark.sql import SparkSession\n",
    "import pyspark\n",
    "from pyspark.sql.functions import translate, col\n",
    "\n",
    "spark = SparkSession.builder.appName(\"NV Energy Project\").getOrCreate()"
   ]
  },
  {
   "cell_type": "code",
   "execution_count": 8,
   "id": "6836520e",
   "metadata": {},
   "outputs": [],
   "source": [
    "#Import primary source data\n",
    "\n",
    "primary_source_df = spark.read.option(\"header\", \"true\").option(\"inferSchema\", \"true\").csv(\"CleanData/GenerationBySourceClean.csv\")"
   ]
  },
  {
   "cell_type": "code",
   "execution_count": 9,
   "id": "f1965ca3",
   "metadata": {},
   "outputs": [],
   "source": [
    "#Convert data to millions scale for visualization\n",
    "\n",
    "import pyspark\n",
    "from pyspark.sql.functions import col, udf\n",
    "from pyspark.sql.types import DoubleType\n",
    "\n",
    "convertUDF = udf(lambda z: convertMill(z), DoubleType())\n",
    "\n",
    "def convertMill(reading):\n",
    "    \n",
    "    new = reading/1000000\n",
    "    return new\n",
    "\n",
    "#Remove total for visualization\n",
    "\n",
    "primary_source_df2 = primary_source_df.filter(primary_source_df.energySource != \"Total\")\n",
    "\n",
    "primary_source_df2 = primary_source_df2.select(\"YEAR\", \"energySource\", convertUDF(col(\"TotalGeneration\").alias(\"TotalMillions\"))) \n",
    "\n",
    "primary_source_df2 = primary_source_df2.orderBy(\"YEAR\")\n",
    "\n",
    "primary_source_df2 = primary_source_df2.withColumnRenamed(\"<lambda>(TotalGeneration AS TotalMillions)\", \"GenerationMil\")\n"
   ]
  },
  {
   "cell_type": "code",
   "execution_count": 10,
   "id": "3bee6dc3",
   "metadata": {},
   "outputs": [],
   "source": [
    "#Create pandas frame for visualization\n",
    "\n",
    "def createPSFrame():\n",
    "    ps_df = primary_source_df2.toPandas()\n",
    "\n",
    "    ps_df_grouped = ps_df.groupby(\"energySource\")\n",
    "\n",
    "    return ps_df_grouped"
   ]
  },
  {
   "cell_type": "code",
   "execution_count": null,
   "id": "14cbe375",
   "metadata": {},
   "outputs": [],
   "source": []
  }
 ],
 "metadata": {
  "celltoolbar": "Tags",
  "kernelspec": {
   "display_name": "Python 3 (ipykernel)",
   "language": "python",
   "name": "python3"
  },
  "language_info": {
   "codemirror_mode": {
    "name": "ipython",
    "version": 3
   },
   "file_extension": ".py",
   "mimetype": "text/x-python",
   "name": "python",
   "nbconvert_exporter": "python",
   "pygments_lexer": "ipython3",
   "version": "3.9.12"
  }
 },
 "nbformat": 4,
 "nbformat_minor": 5
}
